{
 "cells": [
  {
   "cell_type": "markdown",
   "id": "4c0f59cb-ae46-42c6-8ebe-eca9320e663f",
   "metadata": {},
   "source": [
    "## Framing the Problem"
   ]
  },
  {
   "cell_type": "markdown",
   "id": "1ace3773-3786-4b1a-82dd-6857e07cf05f",
   "metadata": {},
   "source": [
    "![CRISP](./images/6_page.jpg)\n",
    "\n",
    "#### What is CRISP-DM?\n",
    "CRISP-DM stands for Cross-Industry Standard Process for Data Mining. It is a cyclical process that provides a structured approach to planning, organizing, and implementing a data mining project. The process consists of six major phases:\n",
    "\n",
    "- Business Understanding\n",
    "- Data Understanding\n",
    "- Data Preparation\n",
    "- Modeling\n",
    "- Evaluation\n",
    "- Deployment\n",
    "\n",
    "\n",
    "I. Business Understanding: \n",
    "Any good project starts with a deep understanding of the customer’s needs. Data mining projects are no exception and CRISP-DM recognizes this.\n",
    "\n",
    "\n",
    "- Determine business objectives: You should first “thoroughly understand, from a business perspective, what the customer/company really wants to accomplish.” (CRISP-DM Guide) and then define business success criteria.\n",
    "- Assess situation: Determine resources availability, project requirements, assess risks and contingencies, and conduct a cost-benefit analysis.\n",
    "\n",
    "II. Data Understanding:\n",
    "Next is the Data Understanding phase. Adding to the foundation of Business Understanding, it drives the focus to identify, collect, and analyze the data sets that can help you accomplish the project goals. **You want to answer the Question, how can data solve this problem**. This phase also has four tasks:\n",
    "\n",
    "\n",
    "\n",
    "- Collect initial data: Acquire the necessary data and (if necessary) load it into your analysis tool.\n",
    "- Describe data: Examine the data and document its surface properties like data format, number of records, or field identities.\n",
    "- Explore data: Dig deeper into the data. Query it, visualize it, and identify relationships among the data.\n",
    "- Verify data quality: How clean/dirty is the data? Document any quality issues."
   ]
  },
  {
   "cell_type": "markdown",
   "id": "9400dd13-2a30-4873-8af5-224f28402142",
   "metadata": {},
   "source": [
    "![DS_PROCESS](./images/7_page.jpg)"
   ]
  },
  {
   "cell_type": "markdown",
   "id": "23f1c652-6e75-4030-87b7-fa765fe5b82b",
   "metadata": {},
   "source": [
    "## What Does It Mean to Understand a Business Problem?\n",
    "Understanding a business problem means identifying what the stakeholders care about, what decisions need to be made, and how success is measured.\n",
    "\n",
    "For example:\n",
    "- A bank wants to reduce customer churn\n",
    "- An e-commerce site wants to increase recommendation click-throughs\n",
    "\n",
    "Your role as a data scientist is to translate this need into a predictive or analytical solution.\n",
    "\n",
    "## Framing the Problem: From Business to Data\n",
    "Most business problems can be categorized into one of a few machine learning types:\n",
    "\n",
    "| Business Question | ML Problem Type |\n",
    "|------------------|------------------|\n",
    "| Will a user churn? | Classification |\n",
    "| How much will a customer spend? | Regression |\n",
    "| Which products are similar? | Clustering |\n",
    "\n",
    "Framing includes:\n",
    "- Identifying the target variable\n",
    "- Understanding features\n",
    "- Defining what a row in the dataset represents\n",
    "\n",
    "## Example: Churn Prediction\n",
    "Let's simulate a telecom company that wants to predict if a customer will cancel their subscription.\n",
    "\n",
    "**Business Goal:** Reduce churn by identifying high-risk customers.\n",
    "\n",
    "**ML Translation:**\n",
    "- Supervised classification\n",
    "- Target variable: `churn` (yes/no)\n",
    "- Features: `tenure`, `monthly_charges`, `contract_type`, etc.\n",
    "\n",
    "## Defining Success Metrics\n",
    "Different problems require different evaluation metrics:\n",
    "- **Classification:** Accuracy, Precision, Recall, F1, AUC\n",
    "- **Regression:** MAE, RMSE, R²\n",
    "\n",
    "> For churn prediction, we care more about **recall** — we don't want to miss customers who are likely to churn."
   ]
  },
  {
   "cell_type": "markdown",
   "id": "abc5d465-a774-4b1c-9f6d-1c3f494bd756",
   "metadata": {},
   "source": [
    "#### Framing the Problem\n",
    "\n",
    "The major difference between Junior and Senior Data Scientist.\n",
    "\n",
    "Example: (Translate a business problem to a data science problem)\n",
    "1. We've made changes in our organisation, can you help us identify the biggest drivers of churn.\n",
    "2. We will like to make our pricing system optimal."
   ]
  },
  {
   "cell_type": "markdown",
   "id": "b5cf2068-c1ab-41cd-9801-5aa3dd5678fb",
   "metadata": {},
   "source": [
    "![framing_the_problem_1](./images/9_page.jpg)"
   ]
  },
  {
   "cell_type": "code",
   "execution_count": null,
   "id": "91badbff-7e24-4523-b724-b9db8778a00b",
   "metadata": {},
   "outputs": [],
   "source": []
  }
 ],
 "metadata": {
  "kernelspec": {
   "display_name": "Python 3 (ipykernel)",
   "language": "python",
   "name": "python3"
  },
  "language_info": {
   "codemirror_mode": {
    "name": "ipython",
    "version": 3
   },
   "file_extension": ".py",
   "mimetype": "text/x-python",
   "name": "python",
   "nbconvert_exporter": "python",
   "pygments_lexer": "ipython3",
   "version": "3.7.16"
  }
 },
 "nbformat": 4,
 "nbformat_minor": 5
}
