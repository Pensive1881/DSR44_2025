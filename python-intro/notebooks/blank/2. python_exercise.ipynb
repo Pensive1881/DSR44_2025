{
 "cells": [
  {
   "cell_type": "markdown",
   "metadata": {},
   "source": [
    "## Exercises\n",
    "\n",
    "Write a program to print out:\n",
    "\n",
    "```\n",
    "*****                                                                  \n",
    "  *                                                                    \n",
    "  *                                                                    \n",
    "  *                                                                    \n",
    "  *                                                                    \n",
    "  *                                                                    \n",
    "  *  \n",
    "```\n",
    "\n",
    "It might be useful to know you can do\n",
    "\n",
    "`'*' * 2 = '**'`\n",
    "\n",
    "`'*' + ' ' = '* '`\n",
    "\n",
    "\n",
    "`'\\n'` makes a line break in python"
   ]
  },
  {
   "cell_type": "code",
   "execution_count": 1,
   "metadata": {},
   "outputs": [
    {
     "name": "stdout",
     "output_type": "stream",
     "text": [
      "*****\n",
      "  *\n",
      "  *\n",
      "  *\n",
      "  *\n",
      "  *\n",
      "  *\n"
     ]
    }
   ],
   "source": [
    "print(\"*\" * 5)\n",
    "for _ in range(6):\n",
    "    print(\"  *\")"
   ]
  },
  {
   "cell_type": "code",
   "execution_count": 2,
   "metadata": {},
   "outputs": [
    {
     "ename": "TypeError",
     "evalue": "'>' not supported between instances of 'int' and 'list'",
     "output_type": "error",
     "traceback": [
      "\u001b[31m---------------------------------------------------------------------------\u001b[39m",
      "\u001b[31mTypeError\u001b[39m                                 Traceback (most recent call last)",
      "\u001b[36mCell\u001b[39m\u001b[36m \u001b[39m\u001b[32mIn[2]\u001b[39m\u001b[32m, line 6\u001b[39m\n\u001b[32m      4\u001b[39m max_position = -\u001b[32m1\u001b[39m\n\u001b[32m      5\u001b[39m \u001b[38;5;28;01mfor\u001b[39;00m idx, el \u001b[38;5;129;01min\u001b[39;00m \u001b[38;5;28menumerate\u001b[39m(l):\n\u001b[32m----> \u001b[39m\u001b[32m6\u001b[39m     \u001b[38;5;28;01mif\u001b[39;00m \u001b[43mel\u001b[49m\u001b[43m \u001b[49m\u001b[43m>\u001b[49m\u001b[43m \u001b[49m\u001b[43mmax_so_far\u001b[49m:\n\u001b[32m      7\u001b[39m         max_so_far = l\n\u001b[32m      8\u001b[39m         max_position = idx\n",
      "\u001b[31mTypeError\u001b[39m: '>' not supported between instances of 'int' and 'list'"
     ]
    }
   ],
   "source": [
    "l = [-1, 3,4,5,-20, 7]\n",
    "\n",
    "max_so_far = -9000\n",
    "max_position = -1\n",
    "for idx, el in enumerate(l):\n",
    "    if el > max_so_far:\n",
    "        max_so_far = l\n",
    "        max_position = idx\n",
    "        \n",
    "print(max_position, max_so_far)"
   ]
  },
  {
   "cell_type": "code",
   "execution_count": 16,
   "metadata": {},
   "outputs": [
    {
     "name": "stdout",
     "output_type": "stream",
     "text": [
      "at position 0 I see a which is 1\n",
      "at position 1 I see b which is 2\n",
      "at position 2 I see c which is 89\n",
      "at position 3 I see l which is 9\n"
     ]
    }
   ],
   "source": [
    "d = dict(a=1, b=2, c=89, l=9)\n",
    "for idx, (k, v) in enumerate(d.items()):\n",
    "    print(f\"at position {idx} I see {k} which is {v}\")\n",
    "\n",
    "# idx = 0 \n",
    "# for letter in d:\n",
    "#     idx += 1\n",
    "#     print(f\"at position {idx} I see {letter}\")\n",
    "    "
   ]
  },
  {
   "cell_type": "markdown",
   "metadata": {},
   "source": [
    "Write a program to print:\n",
    "```\n",
    "1\n",
    "22\n",
    "333\n",
    "4444\n",
    "55555\n",
    "666666\n",
    "7777777\n",
    "88888888\n",
    "999999999\n",
    "```"
   ]
  },
  {
   "cell_type": "code",
   "execution_count": null,
   "metadata": {},
   "outputs": [],
   "source": [
    "for i in range(1, 10):\n",
    "    print(str(i) * i)"
   ]
  },
  {
   "cell_type": "markdown",
   "metadata": {},
   "source": [
    "## Exercises:"
   ]
  },
  {
   "cell_type": "markdown",
   "metadata": {},
   "source": [
    "Write a Python program to display the first and last colors from the following list.\n",
    "\n",
    "`color_list = [\"Red\",\"Green\",\"White\" ,\"Black\"]`\n",
    "\n",
    "Should display \"Red Black\""
   ]
  },
  {
   "cell_type": "code",
   "execution_count": null,
   "metadata": {},
   "outputs": [],
   "source": [
    "color_list = [\"Red\",\"Green\",\"White\" ,\"Black\"]\n",
    "# print(color_list[0] +  \" \" + color_list[-1])\n",
    "print(list(reversed(color_list)))"
   ]
  },
  {
   "cell_type": "markdown",
   "metadata": {},
   "source": [
    "Sum all the items in the following list:\n",
    "x = [1, 2, 3, 7, 12]\n",
    "\n",
    "(without using built-in functions!)"
   ]
  },
  {
   "cell_type": "code",
   "execution_count": null,
   "metadata": {},
   "outputs": [],
   "source": [
    "x = [1, 2, 3, 7, 12]\n",
    "t = 0\n",
    "for el in x:\n",
    "    t += el\n",
    "print(t)"
   ]
  },
  {
   "cell_type": "markdown",
   "metadata": {},
   "source": [
    "Get the maximum number from a list: `y = [-10, 6, 8, 14]`\n",
    "\n",
    "(without using built-in functions!)"
   ]
  },
  {
   "cell_type": "code",
   "execution_count": null,
   "metadata": {},
   "outputs": [],
   "source": [
    "y = [-10, 6, 8, 14]\n",
    "max_so_far = -100\n",
    "\n",
    "for el in y:\n",
    "    if el < max_so_far:\n",
    "        continue\n",
    "    else:\n",
    "        max_so_far = el\n",
    "print(max_so_far)"
   ]
  },
  {
   "cell_type": "markdown",
   "metadata": {},
   "source": [
    "Check if a list is empty or not.\n",
    "\n",
    "For list p = [ ], should print \"True\".\n",
    "\n",
    "For list q = [1, 2, 3, 4] should print \"False\". "
   ]
  },
  {
   "cell_type": "code",
   "execution_count": null,
   "metadata": {},
   "outputs": [],
   "source": [
    "p = [1,2,3]\n",
    "\n",
    "if len(p) == 0:\n",
    "    print(\"true\")\n",
    "else:\n",
    "    print(\"false\")"
   ]
  },
  {
   "cell_type": "markdown",
   "metadata": {},
   "source": [
    "Add the {key: value} pair `{\"Susan: 43}` to the dictionary `ages = {\"Joe\": 50, \"Gretchen\": 31}`"
   ]
  },
  {
   "cell_type": "code",
   "execution_count": null,
   "metadata": {},
   "outputs": [],
   "source": [
    "ages = {\"Joe\": 50, \"Gretchen\": 31}\n",
    "ages['Susan'] = 43\n",
    "print(ages)"
   ]
  },
  {
   "cell_type": "markdown",
   "metadata": {},
   "source": [
    "Create a dictionary merging the values from\n",
    "\n",
    "`ages = {\"Joe\": 50, \"Gretchen\": 31}`\n",
    "\n",
    "and also\n",
    "\n",
    "`ages2 = {\"Andrea\": 19, \"Gretchen\": 32, \"Matusa\": 671}`\n",
    "\n",
    "using the value from ages2 in case of conflict.\n",
    "\n",
    "(Try with and without the dictionary merge command)\n"
   ]
  },
  {
   "cell_type": "code",
   "execution_count": null,
   "metadata": {},
   "outputs": [],
   "source": [
    "ages = {\"Joe\": 50, \"Gretchen\": 31}\n",
    "ages2 = {\"Andrea\": 19, \"Gretchen\": 32, \"Matusa\": 671}\n",
    "\n",
    "# for name, age in ages2.items():\n",
    "#     ages[name] = age\n",
    "# print(ages)\n",
    "\n",
    "print(ages | ages2 | ages2)"
   ]
  }
 ],
 "metadata": {
  "kernelspec": {
   "display_name": "Python 3 (ipykernel)",
   "language": "python",
   "name": "python3"
  },
  "language_info": {
   "codemirror_mode": {
    "name": "ipython",
    "version": 3
   },
   "file_extension": ".py",
   "mimetype": "text/x-python",
   "name": "python",
   "nbconvert_exporter": "python",
   "pygments_lexer": "ipython3",
   "version": "3.13.3"
  }
 },
 "nbformat": 4,
 "nbformat_minor": 4
}
