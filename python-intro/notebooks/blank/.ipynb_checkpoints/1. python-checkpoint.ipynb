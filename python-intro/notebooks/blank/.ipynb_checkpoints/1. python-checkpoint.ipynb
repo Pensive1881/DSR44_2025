{
 "cells": [
  {
   "cell_type": "markdown",
   "metadata": {},
   "source": [
    "# Python Tutorial"
   ]
  },
  {
   "cell_type": "markdown",
   "metadata": {},
   "source": [
    "# 1. What is Python and Why is It So Popular?\n",
    "\n",
    "Python is a high-level, interpreted programming language known for its simplicity and readability. It's popular for a variety of applications, from web development to data science, because of its vast ecosystem of libraries and frameworks, and its supportive community."
   ]
  },
  {
   "cell_type": "markdown",
   "metadata": {},
   "source": [
    "# 2. Checking Python Version\n",
    "\n",
    "You can check your Python version by running a simple command in the terminal or command prompt."
   ]
  },
  {
   "cell_type": "code",
   "execution_count": 1,
   "metadata": {},
   "outputs": [
    {
     "name": "stdout",
     "output_type": "stream",
     "text": [
      "3.13.3 (main, Apr 22 2025, 00:00:00) [GCC 15.0.1 20250418 (Red Hat 15.0.1-0)]\n"
     ]
    }
   ],
   "source": [
    "import sys\n",
    "\n",
    "print(sys.version)\n"
   ]
  },
  {
   "cell_type": "markdown",
   "metadata": {},
   "source": [
    "# 3. Conda Environments\n",
    "\n",
    "Conda environments allow you to manage different project dependencies separately, avoiding conflicts between them."
   ]
  },
  {
   "cell_type": "code",
   "execution_count": null,
   "metadata": {},
   "outputs": [],
   "source": []
  },
  {
   "cell_type": "markdown",
   "metadata": {},
   "source": [
    "# 4. Installing Packages from the Requirements File\n",
    "\n",
    "The requirements file is typically named `requirements.txt` and lists all packages necessary for the project."
   ]
  },
  {
   "cell_type": "code",
   "execution_count": null,
   "metadata": {},
   "outputs": [],
   "source": []
  },
  {
   "cell_type": "markdown",
   "metadata": {},
   "source": [
    "# 5. Different Data Types in Python\n",
    "\n",
    "Python supports various data types like integers, floats, and strings. Here, we'll focus on floats, integers, and categorical types."
   ]
  },
  {
   "cell_type": "code",
   "execution_count": 2,
   "metadata": {},
   "outputs": [
    {
     "name": "stdout",
     "output_type": "stream",
     "text": [
      "6\n"
     ]
    }
   ],
   "source": [
    "a = 3\n",
    "b = 3\n",
    "print(a + b)"
   ]
  },
  {
   "cell_type": "markdown",
   "metadata": {},
   "source": [
    "You can see the type of any variable using the `type` function:"
   ]
  },
  {
   "cell_type": "code",
   "execution_count": 4,
   "metadata": {},
   "outputs": [
    {
     "name": "stdout",
     "output_type": "stream",
     "text": [
      "<class 'int'>\n",
      "<class 'float'>\n"
     ]
    }
   ],
   "source": [
    "a = 3\n",
    "print(type(a))\n",
    "a = 3.2\n",
    "print(type(a))\n"
   ]
  },
  {
   "cell_type": "markdown",
   "metadata": {},
   "source": [
    "# 6. Mathematical Operations in Python\n",
    "\n",
    "Python supports a variety of mathematical operations, from basic arithmetic to complex mathematical functions.\n",
    "\n",
    "Non-obvious operators: `//` `%` `**`\n",
    "\n",
    "Any operator can perform assignment adding an `=`, e.g. `+=` or `**=`"
   ]
  },
  {
   "cell_type": "code",
   "execution_count": 15,
   "metadata": {},
   "outputs": [
    {
     "name": "stdout",
     "output_type": "stream",
     "text": [
      "64\n"
     ]
    }
   ],
   "source": [
    "a = 4\n",
    "a **= 3\n",
    "print(a)"
   ]
  },
  {
   "cell_type": "markdown",
   "metadata": {},
   "source": [
    "# 7. Booleans\n",
    "\n",
    "Booleans represent one of two values: `True` or `False`. Certain values are automatically considered truthy or falsy in Python."
   ]
  },
  {
   "cell_type": "code",
   "execution_count": 19,
   "metadata": {},
   "outputs": [
    {
     "name": "stdout",
     "output_type": "stream",
     "text": [
      "hello\n",
      "True\n"
     ]
    }
   ],
   "source": [
    "a = True\n",
    "b = False\n",
    "c = True\n",
    "\n",
    "if a or d:\n",
    "    print(\"hello\")\n",
    "\n",
    "print(a and b)\n",
    "\n"
   ]
  },
  {
   "cell_type": "markdown",
   "metadata": {},
   "source": [
    "# 8. Strings\n",
    "\n",
    "Strings in Python are used to record textual information. Python has several functions and methods for manipulating strings."
   ]
  },
  {
   "cell_type": "code",
   "execution_count": 25,
   "metadata": {},
   "outputs": [
    {
     "name": "stdout",
     "output_type": "stream",
     "text": [
      "Hello \"world\" \n",
      " eee\n",
      "\n",
      "sdfsdf\n",
      "dsf\n",
      "sfds 'sdf fdg'df '''' \" \n",
      "\n",
      "\n",
      "\n",
      "hello 0.33!\n",
      "hello 3 \n"
     ]
    }
   ],
   "source": [
    "y = \"dfdg\"\n",
    "t = 'dfdg'\n",
    "\n",
    "s = \"Hello \\\"world\\\" \\n eee\"\n",
    "print(s)\n",
    "\n",
    "s = \"\"\"\n",
    "sdfsdf\n",
    "dsf\n",
    "sfds 'sdf fdg'df '''' \" \n",
    "\n",
    "\n",
    "\"\"\"\n",
    "print(s)\n",
    "s = f\"hello {1/3:.2f}!\"\n",
    "\n",
    "print(s)\n",
    "s = \"hello %d \" % 3\n",
    "print(s)"
   ]
  },
  {
   "cell_type": "markdown",
   "metadata": {},
   "source": [
    "# 9. String Stripping and Substring Removal\n",
    "\n",
    "Python provides methods to trim whitespace from strings and remove substrings."
   ]
  },
  {
   "cell_type": "code",
   "execution_count": 27,
   "metadata": {},
   "outputs": [
    {
     "name": "stdout",
     "output_type": "stream",
     "text": [
      "['hello', 'World!']\n"
     ]
    }
   ],
   "source": [
    "s = \"hello World!\"\n",
    "\n",
    "print(s.split())"
   ]
  },
  {
   "cell_type": "markdown",
   "metadata": {},
   "source": [
    "# 10. Comparisons in Python\n",
    "\n",
    "Python uses comparison operators to compare values and objects.\n",
    "\n",
    "When you define your own object types you can define your rules for comparison:\n",
    "\n",
    "```\n",
    "print(5 == 5.0)\n",
    "print(5 <= 5.1)\n",
    "print([] == [])\n",
    "print(3 is not None)\n",
    "print(3 is 3.0)\n",
    "(2 + 3j) > (2 + 3j)\n",
    "```"
   ]
  },
  {
   "cell_type": "code",
   "execution_count": 40,
   "metadata": {},
   "outputs": [
    {
     "data": {
      "text/plain": [
       "(-5+12j)"
      ]
     },
     "execution_count": 40,
     "metadata": {},
     "output_type": "execute_result"
    }
   ],
   "source": [
    "(2 + 3j) * (2 + 3j)\n"
   ]
  },
  {
   "cell_type": "markdown",
   "metadata": {},
   "source": [
    "# 11. Logical Operators\n",
    "\n",
    "Logical operators (`and`, `or`, `not`) are used to combine conditional statements in Python."
   ]
  },
  {
   "cell_type": "code",
   "execution_count": 43,
   "metadata": {},
   "outputs": [
    {
     "data": {
      "text/plain": [
       "False"
      ]
     },
     "execution_count": 43,
     "metadata": {},
     "output_type": "execute_result"
    }
   ],
   "source": [
    "(3 > 2) and (2 == 7)"
   ]
  },
  {
   "cell_type": "markdown",
   "metadata": {},
   "source": [
    "# 12. Conditionals\n",
    "\n",
    "Conditional statements, including `if`, `elif`, and `else`, control the flow of Python programs based on conditions."
   ]
  },
  {
   "cell_type": "code",
   "execution_count": null,
   "metadata": {},
   "outputs": [],
   "source": [
    "a = 9\n",
    "if a == 3:\n",
    "    print(23)\n",
    "elif a == 43:\n",
    "    print(3245)\n",
    "elif a == 6:\n",
    "    print(50)\n",
    "else:\n",
    "    raise ValueError(f\"cannot handle {a}\")"
   ]
  },
  {
   "cell_type": "markdown",
   "metadata": {},
   "source": [
    "# 13. Python Lists and Tuples\n",
    "\n",
    "Lists in Python are *ordered* collections of items which can be of different types.\n",
    "\n",
    "Tuples are *immutable*"
   ]
  },
  {
   "cell_type": "code",
   "execution_count": 50,
   "metadata": {},
   "outputs": [
    {
     "name": "stdout",
     "output_type": "stream",
     "text": [
      "(1, 2, 43)\n"
     ]
    },
    {
     "ename": "TypeError",
     "evalue": "'tuple' object does not support item assignment",
     "output_type": "error",
     "traceback": [
      "\u001b[31m---------------------------------------------------------------------------\u001b[39m",
      "\u001b[31mTypeError\u001b[39m                                 Traceback (most recent call last)",
      "\u001b[36mCell\u001b[39m\u001b[36m \u001b[39m\u001b[32mIn[50]\u001b[39m\u001b[32m, line 3\u001b[39m\n\u001b[32m      1\u001b[39m a = (\u001b[32m1\u001b[39m,\u001b[32m2\u001b[39m,\u001b[32m43\u001b[39m)\n\u001b[32m      2\u001b[39m \u001b[38;5;28mprint\u001b[39m(a)\n\u001b[32m----> \u001b[39m\u001b[32m3\u001b[39m \u001b[43ma\u001b[49m\u001b[43m[\u001b[49m\u001b[32;43m2\u001b[39;49m\u001b[43m]\u001b[49m = \u001b[32m0\u001b[39m\n\u001b[32m      4\u001b[39m \u001b[38;5;28mprint\u001b[39m(a)\n",
      "\u001b[31mTypeError\u001b[39m: 'tuple' object does not support item assignment"
     ]
    }
   ],
   "source": [
    "a = (1,2,43)\n",
    "print(a)\n",
    "a[2] = 0\n",
    "print(a)"
   ]
  },
  {
   "cell_type": "code",
   "execution_count": 59,
   "metadata": {},
   "outputs": [
    {
     "name": "stdout",
     "output_type": "stream",
     "text": [
      "{2, 3}\n",
      "{2, 3, 8}\n"
     ]
    },
    {
     "data": {
      "text/plain": [
       "True"
      ]
     },
     "execution_count": 59,
     "metadata": {},
     "output_type": "execute_result"
    }
   ],
   "source": [
    "s = set()\n",
    "s.add(2)\n",
    "s.add(3)\n",
    "s.add(8)\n",
    "s.add(2)\n",
    "\n",
    "s2 = {2, 3}\n",
    "\n",
    "print(s.intersection(s2))\n",
    "print(s.union(s2))\n",
    "3 in s"
   ]
  },
  {
   "cell_type": "code",
   "execution_count": 61,
   "metadata": {},
   "outputs": [
    {
     "data": {
      "text/plain": [
       "[1, 2, 3, 4, 1]"
      ]
     },
     "execution_count": 61,
     "metadata": {},
     "output_type": "execute_result"
    }
   ],
   "source": [
    "l = [1,2,3,4, 1]\n",
    "l"
   ]
  },
  {
   "cell_type": "code",
   "execution_count": 71,
   "metadata": {},
   "outputs": [
    {
     "name": "stdout",
     "output_type": "stream",
     "text": [
      "{1, 2, 3, 4, 9}\n",
      "{'a': 1, 'b': 5, 0: 101}\n"
     ]
    }
   ],
   "source": [
    "s = {1,2,3,4, 1}\n",
    "s = set([1,2,3,4, 1])\n",
    "s.add(9)\n",
    "s.add(9)\n",
    "print(s)\n",
    "d = {1: '2', 2: 'r'}\n",
    "d = dict(a=1, b=5)\n",
    "d[0] = 100\n",
    "d[0] = 101\n",
    "print(d)"
   ]
  },
  {
   "cell_type": "markdown",
   "metadata": {},
   "source": [
    "# 14. Loops\n",
    "\n",
    "Loops in Python are used to iterate over a sequence (such as a list, tuple, dictionary, or set) or other iterable objects."
   ]
  },
  {
   "cell_type": "code",
   "execution_count": 93,
   "metadata": {},
   "outputs": [
    {
     "name": "stdout",
     "output_type": "stream",
     "text": [
      "This is letter ('a', 1)\n",
      "This is letter ('b', 2)\n",
      "This is letter ('c', 3)\n",
      "This is letter ('n', 90001)\n"
     ]
    }
   ],
   "source": [
    "d = dict(a=1, b=2, c=3, n=90001)\n",
    "\n",
    "\n",
    "for letter in d.items():\n",
    "    print(f'This is letter {letter}')"
   ]
  },
  {
   "cell_type": "code",
   "execution_count": 90,
   "metadata": {},
   "outputs": [
    {
     "name": "stdout",
     "output_type": "stream",
     "text": [
      "4 3\n"
     ]
    }
   ],
   "source": [
    "a = 3\n",
    "b = 4\n",
    "a, b, _ = b, a, 3\n",
    "print(a, b)"
   ]
  },
  {
   "cell_type": "markdown",
   "metadata": {},
   "source": [
    "# 15. List Range Command\n",
    "\n",
    "The `range()` function in Python is used to generate a sequence of numbers.\n",
    "\n",
    "This is a lazy function (aka \"generator\"), it does generate them \"on demand\""
   ]
  },
  {
   "cell_type": "code",
   "execution_count": 109,
   "metadata": {},
   "outputs": [],
   "source": [
    "for k in (1,2,3):\n",
    "    for i in range(100_000_000):\n",
    "        if i == 9000:\n",
    "            print(i)\n",
    "            print(k)\n",
    "            break\n"
   ]
  },
  {
   "cell_type": "code",
   "execution_count": 113,
   "metadata": {},
   "outputs": [
    {
     "name": "stdout",
     "output_type": "stream",
     "text": [
      "10\n",
      "9\n",
      "8\n",
      "7\n",
      "6\n",
      "5\n",
      "4\n",
      "3\n",
      "2\n",
      "1\n",
      "0\n"
     ]
    }
   ],
   "source": [
    "a = 10\n",
    "while a > -1:\n",
    "    print(a)\n",
    "    a -= 1\n"
   ]
  },
  {
   "cell_type": "code",
   "execution_count": 102,
   "metadata": {},
   "outputs": [
    {
     "name": "stdout",
     "output_type": "stream",
     "text": [
      "[10, 9, 8, 7, 6, 5]\n"
     ]
    }
   ],
   "source": [
    "print(list(range(10, 4, -1)))"
   ]
  },
  {
   "cell_type": "markdown",
   "metadata": {},
   "source": [
    "# 16. Dictionaries and Sets\n",
    "\n",
    "Dictionaries are collections of key-value pairs. Sets cannot contain duplicates.\n",
    "\n",
    "You can only use immutable elements as keys or in sets"
   ]
  },
  {
   "cell_type": "code",
   "execution_count": null,
   "metadata": {},
   "outputs": [],
   "source": [
    "a = [1, 2, 3]\n",
    "b = a[:]\n",
    "print(a)\n",
    "print(b)\n",
    "a[1] = 9000\n",
    "print(a)\n",
    "print(b)\n",
    "c = [1,2,3,4,5]\n",
    "print(c[1:4:2])"
   ]
  },
  {
   "cell_type": "code",
   "execution_count": 114,
   "metadata": {},
   "outputs": [
    {
     "name": "stdout",
     "output_type": "stream",
     "text": [
      "h\n",
      "e\n",
      "l\n",
      "l\n",
      "o\n"
     ]
    }
   ],
   "source": [
    "for l in 'hello':\n",
    "    print(l)"
   ]
  },
  {
   "cell_type": "code",
   "execution_count": 120,
   "metadata": {},
   "outputs": [
    {
     "name": "stdout",
     "output_type": "stream",
     "text": [
      "ello \n"
     ]
    }
   ],
   "source": [
    "l = \"hello world\"\n",
    "print(l[1:6])"
   ]
  }
 ],
 "metadata": {
  "kernelspec": {
   "display_name": "Python 3 (ipykernel)",
   "language": "python",
   "name": "python3"
  },
  "language_info": {
   "codemirror_mode": {
    "name": "ipython",
    "version": 3
   },
   "file_extension": ".py",
   "mimetype": "text/x-python",
   "name": "python",
   "nbconvert_exporter": "python",
   "pygments_lexer": "ipython3",
   "version": "3.13.3"
  }
 },
 "nbformat": 4,
 "nbformat_minor": 4
}
