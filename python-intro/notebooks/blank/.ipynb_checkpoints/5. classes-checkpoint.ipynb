{
 "cells": [
  {
   "cell_type": "markdown",
   "metadata": {},
   "source": [
    "# Classes\n",
    "\n",
    "Next to functions there are also python classes.\n",
    "A class is a blueprint for creating objects, objects based on a class are called \"instances\" of it.\n",
    "\n",
    "An object has properties and methods (functions) associated with it. Almost everything in Python is an object, with its properties and methods. A class is a way to bundle data and functionality together.\n",
    "\n",
    "One would initiate the class like that:"
   ]
  },
  {
   "cell_type": "code",
   "execution_count": 17,
   "metadata": {},
   "outputs": [
    {
     "name": "stdout",
     "output_type": "stream",
     "text": [
      "Woof! I am john\n",
      "Woof! I am john\n",
      "Woof! I am sddsfds\n",
      "john\n",
      "<__main__.Dog object at 0x7ff64b4d3a10>\n"
     ]
    }
   ],
   "source": [
    "class Dog:\n",
    "    \n",
    "    def __init__(self, name):\n",
    "        self.name = name\n",
    "\n",
    "    def __str__(self):\n",
    "        return f\"I am the dog with name {self.name}\"\n",
    "    \n",
    "    def bark(self):\n",
    "        print(f\"Woof! I am {self.name}\")\n",
    "\n",
    "\n",
    "b = Dog(\"john\")\n",
    "c = Dog(\"sddsfds\")\n",
    "\n",
    "b.bark()\n",
    "b.bark()\n",
    "\n",
    "c.bark()\n",
    "\n",
    "print(b.name)\n",
    "\n",
    "print(b)\n",
    "\n"
   ]
  },
  {
   "cell_type": "markdown",
   "metadata": {},
   "source": [
    "There are two main things that classes are capable of of. Attributes and methods. Attributes are variables that are associated with a class. Methods are functions that are associated with a class. "
   ]
  },
  {
   "cell_type": "code",
   "execution_count": 3,
   "metadata": {},
   "outputs": [
    {
     "name": "stdout",
     "output_type": "stream",
     "text": [
      "Woof! I am sddsfds\n"
     ]
    }
   ],
   "source": [
    "c.bark()"
   ]
  },
  {
   "cell_type": "markdown",
   "metadata": {},
   "source": [
    "One could call the attribute like that..."
   ]
  },
  {
   "cell_type": "code",
   "execution_count": 5,
   "metadata": {},
   "outputs": [
    {
     "data": {
      "text/plain": [
       "'sddsfds'"
      ]
     },
     "execution_count": 5,
     "metadata": {},
     "output_type": "execute_result"
    }
   ],
   "source": [
    "c.name"
   ]
  },
  {
   "cell_type": "markdown",
   "metadata": {},
   "source": [
    "Attributes are therefore a way that we can store data in a class. On the other side a method is a function that is associated with a class.\n",
    "Here is an example:"
   ]
  },
  {
   "cell_type": "code",
   "execution_count": null,
   "metadata": {},
   "outputs": [],
   "source": []
  },
  {
   "cell_type": "code",
   "execution_count": null,
   "metadata": {},
   "outputs": [],
   "source": []
  },
  {
   "cell_type": "markdown",
   "metadata": {},
   "source": [
    "The methods can take external input or simply work with the input that it was instantiated with."
   ]
  },
  {
   "cell_type": "code",
   "execution_count": null,
   "metadata": {},
   "outputs": [],
   "source": []
  },
  {
   "cell_type": "markdown",
   "metadata": {},
   "source": [
    "# Inheritance\n",
    "\n",
    "A class can extend another by inheriting from it.\n",
    "\n",
    "For example a class \"Square\" can inherit from class \"Shape\". In general if A inherits from B we can say that every A is B (every Square is a Shape).\n",
    "\n",
    "Inheriting allows you to redefine only what is needed.\n",
    "\n",
    "Python (unlike for example Java) allows multiple inheritance.\n",
    "\n",
    "Compared to Java, since Python has a less powerful type checking but more powerful namespacing and data structures features and syntax, OOP is less common but still possible."
   ]
  },
  {
   "cell_type": "code",
   "execution_count": null,
   "metadata": {},
   "outputs": [],
   "source": [
    "class Shape:\n",
    "    \n",
    "    def area(self):\n",
    "        raise NotImplementedError(\"No area for the generic shape\")\n",
    "        \n",
    "    def perimeter(self):\n",
    "        raise NotImplementedError(\"No perimeter for the generic shape\")\n",
    "\n",
    "    def volume(self, height=1):\n",
    "        return self.area() * height\n",
    "        \n",
    "\n",
    "class Square(Shape):\n",
    "    def __init__(self, side):\n",
    "        self.side = side\n",
    "\n",
    "    def area(self):\n",
    "        return self.side ** 2\n",
    "    \n",
    "    def perimeter(self):\n",
    "        return self.side * 4\n",
    "\n",
    "    \n",
    "    def __eq__(self, other):\n",
    "        if not isinstance(other, Square):\n",
    "            return False\n",
    "        return other.side == self.side\n",
    "\n",
    "    def __str__(self):\n",
    "        return f\"SQUARE OF SIDE {self.side}\"\n",
    "        \n",
    "s = Square(2)\n",
    "print(s)\n",
    "print(f\"Square area: {s.area()}\")\n",
    "\n",
    "s2 = Square(3)\n",
    "print(f\"Square area: {s2.area()}\")\n",
    "\n",
    "print(f\"Square volume: {s.volume(height=100)}\")\n",
    "\n",
    "\n",
    "Square(2) == Triangle(2)\n",
    "\n"
   ]
  },
  {
   "cell_type": "code",
   "execution_count": null,
   "metadata": {},
   "outputs": [],
   "source": [
    "class Counter:\n",
    "    \n",
    "    def __init__(self):\n",
    "        self.count = 0\n",
    "        self.how_many_ask = 0\n",
    "        \n",
    "    def increase(self, how_much=1):\n",
    "        self.count += how_much\n",
    "        \n",
    "    def get_count(self):\n",
    "        self.how_many_ask += 1\n",
    "        return self.count\n",
    "\n",
    "c = Counter()\n",
    "c.increase()\n",
    "print(c.get_count())\n",
    "\n",
    "c.increase()\n",
    "print(c.get_count())\n",
    "\n",
    "c.increase(100)\n",
    "print(c.get_count())"
   ]
  }
 ],
 "metadata": {
  "kernelspec": {
   "display_name": "Python 3 (ipykernel)",
   "language": "python",
   "name": "python3"
  },
  "language_info": {
   "codemirror_mode": {
    "name": "ipython",
    "version": 3
   },
   "file_extension": ".py",
   "mimetype": "text/x-python",
   "name": "python",
   "nbconvert_exporter": "python",
   "pygments_lexer": "ipython3",
   "version": "3.13.3"
  }
 },
 "nbformat": 4,
 "nbformat_minor": 4
}
