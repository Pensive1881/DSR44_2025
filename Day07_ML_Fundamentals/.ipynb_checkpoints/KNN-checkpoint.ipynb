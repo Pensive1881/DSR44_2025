{
 "cells": [
  {
   "cell_type": "markdown",
   "id": "e8296407-a39a-484e-8e34-85a4c4226ef9",
   "metadata": {},
   "source": [
    "#### K-Nearest Neighbors"
   ]
  },
  {
   "cell_type": "markdown",
   "id": "7bff29ae-e443-44ac-93a8-f8f293598ed6",
   "metadata": {},
   "source": [
    "'''The KNN algorithm assumes that similar things exist in close proximity. In other words, similar things are near to each other.'''\n",
    "\n",
    "![k-Nearest-Neigbhour](./img/knn.png)"
   ]
  },
  {
   "cell_type": "markdown",
   "id": "a11390ee-03fd-4f61-aa3f-ccd90f197c6e",
   "metadata": {},
   "source": [
    "Notice in the image above that most of the time, similar data points are close to each other. \n",
    "\n",
    "The KNN algorithm hinges on this assumption being true enough for the algorithm to be useful. \n",
    "\n",
    "KNN captures the idea of similarity (sometimes called distance, proximity, or closeness) with some mathematics we might have learned in our childhood— calculating the distance between points on a graph."
   ]
  },
  {
   "cell_type": "markdown",
   "id": "975e1c06-eb87-42e8-8dc1-78b9807be202",
   "metadata": {},
   "source": [
    "#### When do we use KNN algorithm?\n",
    "\n",
    "KNN can be used for both classification and regression predictive problems. \n",
    "\n",
    "However, it is more widely used in classification problems in the industry"
   ]
  },
  {
   "cell_type": "markdown",
   "id": "831a8069-117c-4178-a219-a5108f06eb85",
   "metadata": {},
   "source": [
    "##### How does the KNN algorithm work?\n",
    "\n",
    "Let’s take a simple case to understand this algorithm. Following is a spread of red circles (RC) and green squares (GS) :\n",
    "\n",
    "![k-Nearest-Neigbhour](./img/knn-scenario1.png)\n",
    "\n",
    "You intend to find out the class of the blue star (BS). BS can either be RC or GS and nothing else. \n",
    "\n",
    "The “K” is KNN algorithm is the nearest neighbor we wish to take the vote from. Let’s say K = 3. Hence, we will now make a circle with BS as the center just as big as to enclose only three datapoints on the plane. Refer to the following diagram for more details:\n",
    "\n",
    "![k-Nearest-Neigbhour](./img/knn-scenario2.png)\n",
    "\n",
    "The three closest points to BS is all RC. Hence, with a good confidence level, we can say that the BS should belong to the class RC. Here, the choice became very obvious as all three votes from the closest neighbor went to RC. The choice of the parameter K is very crucial in this algorithm. Next, we will understand what are the factors to be considered to conclude the best K."
   ]
  },
  {
   "cell_type": "markdown",
   "id": "429a4cd5-7263-4b5b-af44-5be85e92bc17",
   "metadata": {},
   "source": [
    "Exercise: Build a simple KNN ML Model. Test around with different values of n."
   ]
  },
  {
   "cell_type": "code",
   "execution_count": 1,
   "id": "3f1d236e-839c-453b-b707-1216c939b14c",
   "metadata": {},
   "outputs": [
    {
     "ename": "ModuleNotFoundError",
     "evalue": "No module named 'pandas'",
     "output_type": "error",
     "traceback": [
      "\u001b[0;31m---------------------------------------------------------------------------\u001b[0m",
      "\u001b[0;31mModuleNotFoundError\u001b[0m                       Traceback (most recent call last)",
      "Cell \u001b[0;32mIn[1], line 2\u001b[0m\n\u001b[1;32m      1\u001b[0m \u001b[38;5;66;03m#import libraries\u001b[39;00m\n\u001b[0;32m----> 2\u001b[0m \u001b[38;5;28;01mimport\u001b[39;00m \u001b[38;5;21;01mpandas\u001b[39;00m \u001b[38;5;28;01mas\u001b[39;00m \u001b[38;5;21;01mpd\u001b[39;00m\n\u001b[1;32m      3\u001b[0m \u001b[38;5;28;01mimport\u001b[39;00m \u001b[38;5;21;01mnumpy\u001b[39;00m \u001b[38;5;28;01mas\u001b[39;00m \u001b[38;5;21;01mnp\u001b[39;00m\n",
      "\u001b[0;31mModuleNotFoundError\u001b[0m: No module named 'pandas'"
     ]
    }
   ],
   "source": [
    "#import libraries\n",
    "import pandas as pd\n",
    "import numpy as np"
   ]
  },
  {
   "cell_type": "code",
   "execution_count": 2,
   "id": "a7bfc7b8-ab4c-4c36-83ce-b0e1689ff36c",
   "metadata": {},
   "outputs": [
    {
     "ename": "NameError",
     "evalue": "name 'pd' is not defined",
     "output_type": "error",
     "traceback": [
      "\u001b[0;31m---------------------------------------------------------------------------\u001b[0m",
      "\u001b[0;31mNameError\u001b[0m                                 Traceback (most recent call last)",
      "Cell \u001b[0;32mIn[2], line 2\u001b[0m\n\u001b[1;32m      1\u001b[0m \u001b[38;5;66;03m#import data\u001b[39;00m\n\u001b[0;32m----> 2\u001b[0m df \u001b[38;5;241m=\u001b[39m \u001b[43mpd\u001b[49m\u001b[38;5;241m.\u001b[39mread_csv(\u001b[38;5;124m'\u001b[39m\u001b[38;5;124m./data/winequality-red.csv\u001b[39m\u001b[38;5;124m'\u001b[39m)\n\u001b[1;32m      3\u001b[0m df\u001b[38;5;241m.\u001b[39mhead()\n",
      "\u001b[0;31mNameError\u001b[0m: name 'pd' is not defined"
     ]
    }
   ],
   "source": [
    "#import data\n",
    "df = pd.read_csv('./data/winequality-red.csv')\n",
    "df.head()"
   ]
  },
  {
   "cell_type": "code",
   "execution_count": 3,
   "id": "192454be-823f-4e7b-bd03-6211e9f4b89c",
   "metadata": {},
   "outputs": [
    {
     "ename": "NameError",
     "evalue": "name 'df' is not defined",
     "output_type": "error",
     "traceback": [
      "\u001b[0;31m---------------------------------------------------------------------------\u001b[0m",
      "\u001b[0;31mNameError\u001b[0m                                 Traceback (most recent call last)",
      "Cell \u001b[0;32mIn[3], line 1\u001b[0m\n\u001b[0;32m----> 1\u001b[0m \u001b[43mdf\u001b[49m\u001b[38;5;241m.\u001b[39mquality\u001b[38;5;241m.\u001b[39munique()\n",
      "\u001b[0;31mNameError\u001b[0m: name 'df' is not defined"
     ]
    }
   ],
   "source": [
    "df.quality.unique()"
   ]
  },
  {
   "cell_type": "code",
   "execution_count": null,
   "id": "7179c2f5-8228-4e23-9630-5eb4a733de22",
   "metadata": {},
   "outputs": [],
   "source": []
  }
 ],
 "metadata": {
  "kernelspec": {
   "display_name": "Python 3 (ipykernel)",
   "language": "python",
   "name": "python3"
  },
  "language_info": {
   "codemirror_mode": {
    "name": "ipython",
    "version": 3
   },
   "file_extension": ".py",
   "mimetype": "text/x-python",
   "name": "python",
   "nbconvert_exporter": "python",
   "pygments_lexer": "ipython3",
   "version": "3.13.7"
  }
 },
 "nbformat": 4,
 "nbformat_minor": 5
}
